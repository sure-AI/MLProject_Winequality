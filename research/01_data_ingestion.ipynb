{
 "cells": [
  {
   "cell_type": "code",
   "execution_count": 127,
   "metadata": {},
   "outputs": [],
   "source": [
    "import os\n",
    "import urllib.request\n"
   ]
  },
  {
   "cell_type": "code",
   "execution_count": 128,
   "metadata": {},
   "outputs": [],
   "source": [
    "from mlProject.constants import *\n",
    "from mlProject.utils.common import read_yaml, create_directories"
   ]
  },
  {
   "cell_type": "code",
   "execution_count": 129,
   "metadata": {},
   "outputs": [
    {
     "data": {
      "text/plain": [
       "'c:\\\\Users\\\\sr\\\\OneDrive\\\\Documents\\\\Work\\\\Agni\\\\Wine Quality ML Project\\\\MLProject_Winequality'"
      ]
     },
     "execution_count": 129,
     "metadata": {},
     "output_type": "execute_result"
    }
   ],
   "source": [
    "%pwd"
   ]
  },
  {
   "cell_type": "code",
   "execution_count": 130,
   "metadata": {},
   "outputs": [
    {
     "data": {
      "text/plain": [
       "'c:\\\\Users\\\\sr\\\\OneDrive\\\\Documents\\\\Work\\\\Agni\\\\Wine Quality ML Project\\\\MLProject_Winequality'"
      ]
     },
     "execution_count": 130,
     "metadata": {},
     "output_type": "execute_result"
    }
   ],
   "source": [
    "%pwd"
   ]
  },
  {
   "cell_type": "code",
   "execution_count": 131,
   "metadata": {},
   "outputs": [
    {
     "name": "stdout",
     "output_type": "stream",
     "text": [
      "Current Working Directory: c:\\Users\\sr\\OneDrive\\Documents\\Work\\Agni\\Wine Quality ML Project\\MLProject_Winequality\n",
      "Looking for file at: c:\\Users\\sr\\OneDrive\\Documents\\Work\\Agni\\Wine Quality ML Project\\MLProject_Winequality\\config.yaml\n"
     ]
    }
   ],
   "source": [
    "print(\"Current Working Directory:\", os.getcwd())\n",
    "print(\"Looking for file at:\", config_filepath)"
   ]
  },
  {
   "cell_type": "code",
   "execution_count": 132,
   "metadata": {},
   "outputs": [],
   "source": [
    "from dataclasses import dataclass\n",
    "from pathlib import Path\n",
    "\n",
    "\n",
    "@dataclass(frozen=True)\n",
    "class DataIngestionConfig:\n",
    "    root_dir: Path\n",
    "    source_URL: str\n",
    "    local_data_file: Path\n",
    "    unzip_dir: Path"
   ]
  },
  {
   "cell_type": "code",
   "execution_count": 133,
   "metadata": {},
   "outputs": [
    {
     "name": "stdout",
     "output_type": "stream",
     "text": [
      "123456: c:\\Users\\sr\\OneDrive\\Documents\\Work\\Agni\\Wine Quality ML Project\\MLProject_Winequality\\config.yaml\n"
     ]
    }
   ],
   "source": [
    "class ConfigurationManager:\n",
    "    def __init__(\n",
    "        self,\n",
    "        config_filepath = CONFIG_FILE_PATH,\n",
    "        params_filepath = PARAMS_FILE_PATH,\n",
    "        schema_filepath = SCHEMA_FILE_PATH):\n",
    "\n",
    "        self.config = read_yaml(config_filepath)\n",
    "        self.params = read_yaml(params_filepath)\n",
    "        self.schema = read_yaml(schema_filepath)\n",
    "\n",
    "        create_directories([self.config.artifacts_root])\n",
    "\n",
    "    print(\"123456:\", config_filepath)\n",
    "    \n",
    "    def get_data_ingestion_config(self) -> DataIngestionConfig:\n",
    "        config = self.config.data_ingestion\n",
    "\n",
    "        create_directories([config.root_dir])\n",
    "\n",
    "        data_ingestion_config = DataIngestionConfig(\n",
    "            root_dir=config.root_dir,\n",
    "            source_URL=config.source_URL,\n",
    "            local_data_file=config.local_data_file,\n",
    "            unzip_dir=config.unzip_dir \n",
    "        )\n",
    "\n",
    "        return data_ingestion_config"
   ]
  },
  {
   "cell_type": "code",
   "execution_count": 134,
   "metadata": {},
   "outputs": [],
   "source": [
    "import os\n",
    "import urllib.request as request\n",
    "import zipfile\n",
    "from mlProject import logger\n",
    "from mlProject.utils.common import get_size"
   ]
  },
  {
   "cell_type": "code",
   "execution_count": 135,
   "metadata": {},
   "outputs": [],
   "source": [
    "class DataIngestion:\n",
    "    def __init__(self, config: DataIngestionConfig):\n",
    "        self.config = config\n",
    "\n",
    "\n",
    "    def download_file(self):\n",
    "        try:\n",
    "            print(f\"Downloadfile 1: {self.config.local_data_file}\")\n",
    "            print(f\"Downloadfile 2: {self.config.source_URL}\")\n",
    "        \n",
    "            # Check if the file already exists\n",
    "            if not os.path.exists(self.config.local_data_file):\n",
    "                # Attempt to download the file\n",
    "                print(\"Starting the download...\")\n",
    "                filename, headers = urllib.request.urlretrieve(\n",
    "                    url=self.config.source_URL,\n",
    "                    filename=self.config.local_data_file\n",
    "                )\n",
    "                print(\"Download completed.\")\n",
    "                logger.info(f\"{filename} downloaded successfully! Info: \\n{headers}\")\n",
    "            else:\n",
    "                # Log that the file already exists and display its size\n",
    "                file_size = get_size(Path(self.config.local_data_file))\n",
    "                print(f\"File already exists. Size: {file_size}\")\n",
    "                logger.info(f\"File already exists with size: {file_size}\")\n",
    "\n",
    "        except Exception as e:\n",
    "            # Handle exceptions (e.g., HTTP errors, file errors)\n",
    "            print(f\"An error occurred during file download: {str(e)}\")\n",
    "            logger.error(f\"Error during download: {str(e)}\")\n",
    "            raise\n",
    "\n",
    "\n",
    "\n",
    "    def extract_zip_file(self):\n",
    "        \"\"\"\n",
    "        zip_file_path: str\n",
    "        Extracts the zip file into the data directory\n",
    "        Function returns None\n",
    "        \"\"\"\n",
    "        \n",
    "        unzip_path = self.config.unzip_dir\n",
    "        os.makedirs(unzip_path, exist_ok=True)\n",
    "        with zipfile.ZipFile(self.config.local_data_file, 'r') as zip_ref:\n",
    "            zip_ref.extractall(unzip_path)\n",
    "\n",
    "  "
   ]
  },
  {
   "cell_type": "code",
   "execution_count": 136,
   "metadata": {},
   "outputs": [
    {
     "name": "stdout",
     "output_type": "stream",
     "text": [
      "Reached1\n",
      "[2024-09-15 14:26:02,752: INFO: common: yaml file: config\\config.yaml loaded successfully]\n",
      "[2024-09-15 14:26:02,755: INFO: common: yaml file: params.yaml loaded successfully]\n",
      "[2024-09-15 14:26:02,758: INFO: common: yaml file: schema.yaml loaded successfully]\n",
      "[2024-09-15 14:26:02,761: INFO: common: created directory at: artifacts]\n",
      "Reached2\n",
      "[2024-09-15 14:26:02,763: INFO: common: created directory at: artifacts/data_ingestion]\n",
      "Reached3\n",
      "Reached4\n",
      "Downloadfile 1: artifacts/data_ingestion/data.zip\n",
      "Downloadfile 2: https://github.com/sure-AI/MLProject_Winequality/raw/main/winequality-data.zip\n",
      "Starting the download...\n",
      "Download completed.\n",
      "[2024-09-15 14:26:03,537: INFO: 3188608278: artifacts/data_ingestion/data.zip downloaded successfully! Info: \n",
      "Connection: close\n",
      "Content-Length: 23329\n",
      "Cache-Control: max-age=300\n",
      "Content-Security-Policy: default-src 'none'; style-src 'unsafe-inline'; sandbox\n",
      "Content-Type: application/zip\n",
      "ETag: \"c69888a4ae59bc5a893392785a938ccd4937981c06ba8a9d6a21aa52b4ab5b6e\"\n",
      "Strict-Transport-Security: max-age=31536000\n",
      "X-Content-Type-Options: nosniff\n",
      "X-Frame-Options: deny\n",
      "X-XSS-Protection: 1; mode=block\n",
      "X-GitHub-Request-Id: E44C:3F320C:F0336:13B65B:66E6A187\n",
      "Accept-Ranges: bytes\n",
      "Date: Sun, 15 Sep 2024 08:57:43 GMT\n",
      "Via: 1.1 varnish\n",
      "X-Served-By: cache-hyd1100024-HYD\n",
      "X-Cache: MISS\n",
      "X-Cache-Hits: 0\n",
      "X-Timer: S1726390664.556880,VS0,VE295\n",
      "Vary: Authorization,Accept-Encoding,Origin\n",
      "Access-Control-Allow-Origin: *\n",
      "Cross-Origin-Resource-Policy: cross-origin\n",
      "X-Fastly-Request-ID: 23308d050f24633095ab2d3f54f76ba645fa22d0\n",
      "Expires: Sun, 15 Sep 2024 09:02:43 GMT\n",
      "Source-Age: 0\n",
      "\n",
      "]\n",
      "Reached5\n",
      "Starting the unzip...\n",
      "Extract Zip File: artifacts/data_ingestion\n",
      "Extract Zip File 1:\n",
      "Extract Zip File 2:\n",
      "Extract Zip File: artifacts/data_ingestion/data.zip\n",
      "Extract Zip File 3:\n",
      "Reached6\n"
     ]
    }
   ],
   "source": [
    "try:\n",
    "\n",
    "    config = ConfigurationManager()\n",
    "    data_ingestion_config = config.get_data_ingestion_config()\n",
    "    data_ingestion = DataIngestion(config=data_ingestion_config)\n",
    "    data_ingestion.download_file()\n",
    "    data_ingestion.extract_zip_file()\n",
    "\n",
    "except Exception as e:\n",
    "    raise e"
   ]
  },
  {
   "cell_type": "code",
   "execution_count": null,
   "metadata": {},
   "outputs": [],
   "source": []
  }
 ],
 "metadata": {
  "kernelspec": {
   "display_name": "mlproj",
   "language": "python",
   "name": "python3"
  },
  "language_info": {
   "codemirror_mode": {
    "name": "ipython",
    "version": 3
   },
   "file_extension": ".py",
   "mimetype": "text/x-python",
   "name": "python",
   "nbconvert_exporter": "python",
   "pygments_lexer": "ipython3",
   "version": "3.12.2"
  },
  "orig_nbformat": 4
 },
 "nbformat": 4,
 "nbformat_minor": 2
}
